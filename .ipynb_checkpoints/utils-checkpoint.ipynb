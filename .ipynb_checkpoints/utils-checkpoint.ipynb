{
 "cells": [
  {
   "cell_type": "code",
   "execution_count": 20,
   "id": "e49329dc",
   "metadata": {},
   "outputs": [],
   "source": [
    "import json\n",
    "import pickle\n",
    "import numpy as np"
   ]
  },
  {
   "cell_type": "code",
   "execution_count": 27,
   "id": "5b505315",
   "metadata": {},
   "outputs": [],
   "source": [
    "__datacolumn=None\n",
    "__location=None\n",
    "__model=None\n",
    "\n",
    "def estimate_price(location,sqft,bhk,bath):\n",
    "    try:\n",
    "        loc_ind=__datacolumn.index(location.lower())\n",
    "    except:\n",
    "        loc_ind=-1\n",
    "    x=np.zeros(len(__datacolumn))\n",
    "    x[0]=sqft\n",
    "    x[1]=bhk\n",
    "    x[2]=bath\n",
    "    \n",
    "    if loc_ind>=0:\n",
    "        x[loc_ind]=1\n",
    "    return round(__model.predict([x])[0],2)\n",
    "def get_location_name():\n",
    "    return __location\n",
    "def load_data():\n",
    "    global __datacolumn\n",
    "    global __location\n",
    "    global __model\n",
    "    \n",
    "    with open(\"columns.json\",\"r\") as f:\n",
    "        __datacolumn=json.load(f)[\"data_columns\"]\n",
    "        __location=__datacolumn[3:]\n",
    "    with open(\"bangalore_home_prediction_model.pickle\",\"rb\") as f:\n",
    "        __model=pickle.load(f)"
   ]
  },
  {
   "cell_type": "code",
   "execution_count": 29,
   "id": "e0f44f7d",
   "metadata": {},
   "outputs": [
    {
     "name": "stdout",
     "output_type": "stream",
     "text": [
      "94.92\n",
      "92.15\n"
     ]
    },
    {
     "name": "stderr",
     "output_type": "stream",
     "text": [
      "C:\\Users\\Harneel\\AppData\\Local\\Programs\\Python\\Python311\\Lib\\site-packages\\sklearn\\base.py:439: UserWarning: X does not have valid feature names, but LinearRegression was fitted with feature names\n",
      "  warnings.warn(\n",
      "C:\\Users\\Harneel\\AppData\\Local\\Programs\\Python\\Python311\\Lib\\site-packages\\sklearn\\base.py:439: UserWarning: X does not have valid feature names, but LinearRegression was fitted with feature names\n",
      "  warnings.warn(\n"
     ]
    }
   ],
   "source": [
    "if __name__==\"__main__\":\n",
    "    load_data()\n",
    "    print(get_location_name())\n",
    "    print(estimate_price('1st phase jp nagar',1000,3,2))\n",
    "    print(estimate_price('1st phase jp nagar',1000,2,2))\n",
    "    "
   ]
  }
 ],
 "metadata": {
  "kernelspec": {
   "display_name": "Python 3 (ipykernel)",
   "language": "python",
   "name": "python3"
  },
  "language_info": {
   "codemirror_mode": {
    "name": "ipython",
    "version": 3
   },
   "file_extension": ".py",
   "mimetype": "text/x-python",
   "name": "python",
   "nbconvert_exporter": "python",
   "pygments_lexer": "ipython3",
   "version": "3.11.3"
  }
 },
 "nbformat": 4,
 "nbformat_minor": 5
}
